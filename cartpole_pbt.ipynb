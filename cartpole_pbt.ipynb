{
  "nbformat": 4,
  "nbformat_minor": 0,
  "metadata": {
    "accelerator": "GPU",
    "colab": {
      "name": "pytorch_dqn_cartpole_colab.ipynb",
      "provenance": [],
      "collapsed_sections": []
    },
    "kernelspec": {
      "display_name": "Python 3",
      "language": "python",
      "name": "python3"
    },
    "language_info": {
      "codemirror_mode": {
        "name": "ipython",
        "version": 3
      },
      "file_extension": ".py",
      "mimetype": "text/x-python",
      "name": "python",
      "nbconvert_exporter": "python",
      "pygments_lexer": "ipython3",
      "version": "3.7.9"
    },
    "widgets": {
      "application/vnd.jupyter.widget-state+json": {
        "91af4475588b4069846837566ed39529": {
          "model_module": "@jupyter-widgets/controls",
          "model_name": "IntProgressModel",
          "state": {
            "_view_name": "ProgressView",
            "style": "IPY_MODEL_ba01d214737d43ec8ee1945a9f5d6f8e",
            "_dom_classes": [],
            "description": "",
            "_model_name": "IntProgressModel",
            "bar_style": "",
            "max": 15000,
            "_view_module": "@jupyter-widgets/controls",
            "_model_module_version": "1.5.0",
            "value": 15000,
            "_view_count": null,
            "_view_module_version": "1.5.0",
            "orientation": "horizontal",
            "min": 0,
            "description_tooltip": null,
            "_model_module": "@jupyter-widgets/controls",
            "layout": "IPY_MODEL_ba1e42d6f03049f99030b2f9be05cba4"
          }
        },
        "ba01d214737d43ec8ee1945a9f5d6f8e": {
          "model_module": "@jupyter-widgets/controls",
          "model_name": "ProgressStyleModel",
          "state": {
            "_view_name": "StyleView",
            "_model_name": "ProgressStyleModel",
            "description_width": "",
            "_view_module": "@jupyter-widgets/base",
            "_model_module_version": "1.5.0",
            "_view_count": null,
            "_view_module_version": "1.2.0",
            "bar_color": null,
            "_model_module": "@jupyter-widgets/controls"
          }
        },
        "ba1e42d6f03049f99030b2f9be05cba4": {
          "model_module": "@jupyter-widgets/base",
          "model_name": "LayoutModel",
          "state": {
            "_view_name": "LayoutView",
            "grid_template_rows": null,
            "right": null,
            "justify_content": null,
            "_view_module": "@jupyter-widgets/base",
            "overflow": null,
            "_model_module_version": "1.2.0",
            "_view_count": null,
            "flex_flow": null,
            "width": null,
            "min_width": null,
            "border": null,
            "align_items": null,
            "bottom": null,
            "_model_module": "@jupyter-widgets/base",
            "top": null,
            "grid_column": null,
            "overflow_y": null,
            "overflow_x": null,
            "grid_auto_flow": null,
            "grid_area": null,
            "grid_template_columns": null,
            "flex": null,
            "_model_name": "LayoutModel",
            "justify_items": null,
            "grid_row": null,
            "max_height": null,
            "align_content": null,
            "visibility": null,
            "align_self": null,
            "height": null,
            "min_height": null,
            "padding": null,
            "grid_auto_rows": null,
            "grid_gap": null,
            "max_width": null,
            "order": null,
            "_view_module_version": "1.2.0",
            "grid_template_areas": null,
            "object_position": null,
            "object_fit": null,
            "grid_auto_columns": null,
            "margin": null,
            "display": null,
            "left": null
          }
        }
      }
    }
  },
  "cells": [
    {
      "cell_type": "markdown",
      "metadata": {
        "id": "mryopM0aJlPb"
      },
      "source": [
        "## Credit"
      ]
    },
    {
      "cell_type": "markdown",
      "metadata": {
        "id": "9I0j-mSIJlPb"
      },
      "source": [
        "The following code was adapted heavily from the following example:\n",
        "https://pytorch.org/tutorials/intermediate/reinforcement_q_learning.html"
      ]
    },
    {
      "cell_type": "markdown",
      "metadata": {
        "id": "WPj9xbvQJlPc"
      },
      "source": [
        "## Imports and Setup"
      ]
    },
    {
      "cell_type": "markdown",
      "metadata": {
        "id": "rosXa3fZTFVy"
      },
      "source": [
        "#### Run this if you are working in Colab"
      ]
    },
    {
      "cell_type": "code",
      "metadata": {
        "colab": {
          "base_uri": "https://localhost:8080/"
        },
        "id": "XZWMyooWMBmT",
        "outputId": "5a84c508-52b8-4f9e-b94a-0e55c5b129cd"
      },
      "source": [
        "# Run this one if you are working in Colab\n",
        "!apt-get install -y xvfb python-opengl > /dev/null 2>&1\n",
        "!pip install gym pyvirtualdisplay > /dev/null 2>&1\n",
        "\n",
        "from IPython import display as ipythondisplay\n",
        "from pyvirtualdisplay import Display\n",
        "\n",
        "display = Display(visible=0, size=(400,300))\n",
        "display.start()"
      ],
      "execution_count": null,
      "outputs": [
        {
          "output_type": "execute_result",
          "data": {
            "text/plain": [
              "<pyvirtualdisplay.display.Display at 0x7f89c22daac8>"
            ]
          },
          "metadata": {
            "tags": []
          },
          "execution_count": 1
        }
      ]
    },
    {
      "cell_type": "code",
      "metadata": {
        "id": "tv-aMKNUJlPc"
      },
      "source": [
        "import gym\n",
        "import math\n",
        "import random\n",
        "import numpy as np\n",
        "import matplotlib\n",
        "import matplotlib.pyplot as plt\n",
        "%matplotlib inline\n",
        "\n",
        "from collections import namedtuple\n",
        "from itertools import count\n",
        "\n",
        "from PIL import Image\n",
        "\n",
        "from ipywidgets import IntProgress\n",
        "from IPython.display import display\n",
        "import time\n",
        "\n",
        "import torch\n",
        "import torch.nn as nn\n",
        "import torch.optim as optim\n",
        "import torch.nn.functional as F\n",
        "import torchvision.transforms as T\n",
        "\n",
        "# if gpu is to be used\n",
        "device = torch.device(\"cuda\" if torch.cuda.is_available() else \"cpu\")"
      ],
      "execution_count": null,
      "outputs": []
    },
    {
      "cell_type": "markdown",
      "metadata": {
        "id": "m2NXJxIaJlPe"
      },
      "source": [
        "## Replay Buffer"
      ]
    },
    {
      "cell_type": "code",
      "metadata": {
        "id": "zlCqb-yHJlPe"
      },
      "source": [
        "Transition = namedtuple('Transition',\n",
        "                        ('state', 'action', 'next_state', 'reward'))\n",
        "\n",
        "\n",
        "class ReplayMemory(object):\n",
        "\n",
        "    def __init__(self, capacity):\n",
        "        self.capacity = capacity\n",
        "        self.memory = []\n",
        "        self.position = 0\n",
        "\n",
        "    def push(self, *args):\n",
        "        \"\"\"Saves a transition.\"\"\"\n",
        "        if len(self.memory) < self.capacity:\n",
        "            self.memory.append(None)\n",
        "        self.memory[self.position] = Transition(*args)\n",
        "        self.position = (self.position + 1) % self.capacity\n",
        "\n",
        "    def sample(self, batch_size):\n",
        "        return random.sample(self.memory, batch_size)\n",
        "\n",
        "    def __len__(self):\n",
        "        return len(self.memory)"
      ],
      "execution_count": null,
      "outputs": []
    },
    {
      "cell_type": "markdown",
      "metadata": {
        "id": "hI9W2CAwJlPe"
      },
      "source": [
        "## Model Architecture"
      ]
    },
    {
      "cell_type": "code",
      "metadata": {
        "id": "havJJOTzJlPe"
      },
      "source": [
        "class DQN(nn.Module):\n",
        "\n",
        "    def __init__(self, h, w, outputs):\n",
        "        super(DQN, self).__init__()\n",
        "        self.conv1 = nn.Conv2d(3, 16, kernel_size=5, stride=2)\n",
        "        self.bn1 = nn.BatchNorm2d(16)\n",
        "        self.conv2 = nn.Conv2d(16, 32, kernel_size=5, stride=2)\n",
        "        self.bn2 = nn.BatchNorm2d(32)\n",
        "        self.conv3 = nn.Conv2d(32, 32, kernel_size=5, stride=2)\n",
        "        self.bn3 = nn.BatchNorm2d(32)\n",
        "\n",
        "        # Number of Linear input connections depends on output of conv2d layers\n",
        "        # and therefore the input image size, so compute it.\n",
        "        def conv2d_size_out(size, kernel_size = 5, stride = 2):\n",
        "            return (size - (kernel_size - 1) - 1) // stride  + 1\n",
        "        convw = conv2d_size_out(conv2d_size_out(conv2d_size_out(w)))\n",
        "        convh = conv2d_size_out(conv2d_size_out(conv2d_size_out(h)))\n",
        "        linear_input_size = convw * convh * 32\n",
        "        self.head = nn.Linear(linear_input_size, outputs)\n",
        "\n",
        "    # Called with either one element to determine next action, or a batch\n",
        "    # during optimization. Returns tensor([[left0exp,right0exp]...]).\n",
        "    def forward(self, x):\n",
        "        x = F.relu(self.bn1(self.conv1(x)))\n",
        "        x = F.relu(self.bn2(self.conv2(x)))\n",
        "        x = F.relu(self.bn3(self.conv3(x)))\n",
        "        return self.head(x.view(x.size(0), -1))"
      ],
      "execution_count": null,
      "outputs": []
    },
    {
      "cell_type": "markdown",
      "metadata": {
        "id": "4dKsscHYJlPe"
      },
      "source": [
        "## Class for storing an agent"
      ]
    },
    {
      "cell_type": "code",
      "metadata": {
        "id": "7v2cVQDTJlPe"
      },
      "source": [
        "class Agent():\n",
        "    def __init__(self, env=None):\n",
        "        self.policy_net = DQN(screen_height, screen_width, n_actions).to(device)\n",
        "        self.target_net = DQN(screen_height, screen_width, n_actions).to(device)\n",
        "        self.optimizer = optim.RMSprop(self.policy_net.parameters())\n",
        "        self.steps_done = 0\n",
        "        self.episode_durations = []\n",
        "        self.env = gym.make('CartPole-v0').unwrapped\n",
        "        self.current_screen = None\n",
        "        self.state = None\n"
      ],
      "execution_count": null,
      "outputs": []
    },
    {
      "cell_type": "markdown",
      "metadata": {
        "id": "GOIMB-BNJlPf"
      },
      "source": [
        "## Screen Processing"
      ]
    },
    {
      "cell_type": "code",
      "metadata": {
        "id": "Wpl7vVBOJlPf"
      },
      "source": [
        "resize = T.Compose([T.ToPILImage(),\n",
        "                    T.Resize(40, interpolation=Image.CUBIC),\n",
        "                    T.ToTensor()])\n",
        "\n",
        "def get_cart_location(screen_width, env):\n",
        "    world_width = env.x_threshold * 2\n",
        "    scale = screen_width / world_width\n",
        "    return int(env.state[0] * scale + screen_width / 2.0)  # MIDDLE OF CART\n",
        "\n",
        "def get_screen(env):\n",
        "    # Returned screen requested by gym is 400x600x3, but is sometimes larger\n",
        "    # such as 800x1200x3. Transpose it into torch order (CHW).\n",
        "    screen = env.render(mode='rgb_array').transpose((2, 0, 1))\n",
        "    # Cart is in the lower half, so strip off the top and bottom of the screen\n",
        "    _, screen_height, screen_width = screen.shape\n",
        "    screen = screen[:, int(screen_height*0.4):int(screen_height * 0.8)]\n",
        "    view_width = int(screen_width * 0.6)\n",
        "    cart_location = get_cart_location(screen_width, env)\n",
        "    if cart_location < view_width // 2:\n",
        "        slice_range = slice(view_width)\n",
        "    elif cart_location > (screen_width - view_width // 2):\n",
        "        slice_range = slice(-view_width, None)\n",
        "    else:\n",
        "        slice_range = slice(cart_location - view_width // 2,\n",
        "                            cart_location + view_width // 2)\n",
        "    # Strip off the edges, so that we have a square image centered on a cart\n",
        "    screen = screen[:, :, slice_range]\n",
        "    # Convert to float, rescale, convert to torch tensor\n",
        "    # (this doesn't require a copy)\n",
        "    screen = np.ascontiguousarray(screen, dtype=np.float32) / 255\n",
        "    screen = torch.from_numpy(screen)\n",
        "    # Resize, and add a batch dimension (BCHW)\n",
        "    return resize(screen).unsqueeze(0).to(device)"
      ],
      "execution_count": null,
      "outputs": []
    },
    {
      "cell_type": "markdown",
      "metadata": {
        "id": "YA94iNayJlPf"
      },
      "source": [
        "## More Setup"
      ]
    },
    {
      "cell_type": "code",
      "metadata": {
        "id": "ktJ13BxnJlPf"
      },
      "source": [
        "# Get screen size so that we can initialize layers correctly based on shape\n",
        "# returned from AI gym. Typical dimensions at this point are close to 3x40x90\n",
        "# which is the result of a clamped and down-scaled render buffer in get_screen()\n",
        "env = gym.make('CartPole-v0').unwrapped\n",
        "env.reset()\n",
        "init_screen = get_screen(env)\n",
        "_, _, screen_height, screen_width = init_screen.shape\n",
        "\n",
        "# Get number of actions from gym action space\n",
        "n_actions = env.action_space.n\n",
        "env.close()\n",
        "\n",
        "def select_action(state, agent, policy_net_parent=None):\n",
        "    sample = random.random()\n",
        "    eps_threshold = EPS_END + (EPS_START - EPS_END) * \\\n",
        "        math.exp(-1. * agent.steps_done / EPS_DECAY)\n",
        "    agent.steps_done += 1\n",
        "    if sample > eps_threshold:\n",
        "        with torch.no_grad():\n",
        "            # t.max(1) will return largest column value of each row.\n",
        "            # second column on max result is index of where max element was\n",
        "            # found, so we pick action with the larger expected reward.\n",
        "            return agent.policy_net(state).max(1)[1].view(1, 1)\n",
        "    else:\n",
        "        if policy_net_parent and random.random() < 0.5:\n",
        "            return policy_net_parent(state).max(1)[1].view(1, 1)\n",
        "        else:\n",
        "            return torch.tensor([[random.randrange(n_actions)]], device=device, dtype=torch.long)"
      ],
      "execution_count": null,
      "outputs": []
    },
    {
      "cell_type": "markdown",
      "metadata": {
        "id": "hnbPuV9VJlPf"
      },
      "source": [
        "## Optimize Model Function"
      ]
    },
    {
      "cell_type": "code",
      "metadata": {
        "id": "jcH7dbidJlPf"
      },
      "source": [
        "def optimize_model(agent, memory):\n",
        "    if len(memory) < BATCH_SIZE:\n",
        "        return\n",
        "    transitions = memory.sample(BATCH_SIZE)\n",
        "    # Transpose the batch (see https://stackoverflow.com/a/19343/3343043 for\n",
        "    # detailed explanation). This converts batch-array of Transitions\n",
        "    # to Transition of batch-arrays.\n",
        "    batch = Transition(*zip(*transitions))\n",
        "\n",
        "    # Compute a mask of non-final states and concatenate the batch elements\n",
        "    # (a final state would've been the one after which simulation ended)\n",
        "    non_final_mask = torch.tensor(tuple(map(lambda s: s is not None,\n",
        "                                          batch.next_state)), device=device, dtype=torch.bool)\n",
        "    non_final_next_states = torch.cat([s for s in batch.next_state\n",
        "                                                if s is not None])\n",
        "    state_batch = torch.cat(batch.state)\n",
        "    action_batch = torch.cat(batch.action)\n",
        "    reward_batch = torch.cat(batch.reward)\n",
        "\n",
        "    # Compute Q(s_t, a) - the model computes Q(s_t), then we select the\n",
        "    # columns of actions taken. These are the actions which would've been taken\n",
        "    # for each batch state according to policy_net\n",
        "    state_action_values = agent.policy_net(state_batch).gather(1, action_batch)\n",
        "\n",
        "    # Compute V(s_{t+1}) for all next states.\n",
        "    # Expected values of actions for non_final_next_states are computed based\n",
        "    # on the \"older\" target_net; selecting their best reward with max(1)[0].\n",
        "    # This is merged based on the mask, such that we'll have either the expected\n",
        "    # state value or 0 in case the state was final.\n",
        "    next_state_values = torch.zeros(BATCH_SIZE, device=device)\n",
        "    next_state_values[non_final_mask] = agent.target_net(non_final_next_states).max(1)[0].detach()\n",
        "    # Compute the expected Q values\n",
        "    expected_state_action_values = (next_state_values * GAMMA) + reward_batch\n",
        "\n",
        "    # Compute Huber loss\n",
        "    loss = F.smooth_l1_loss(state_action_values, expected_state_action_values.unsqueeze(1))\n",
        "\n",
        "    # Optimize the model\n",
        "    agent.optimizer.zero_grad()\n",
        "    loss.backward()\n",
        "    for param in agent.policy_net.parameters():\n",
        "        param.grad.data.clamp_(-1, 1)\n",
        "    agent.optimizer.step()"
      ],
      "execution_count": null,
      "outputs": []
    },
    {
      "cell_type": "markdown",
      "metadata": {
        "id": "HHz-MLJVJlPf"
      },
      "source": [
        "## Run Our NEW-PBT Training"
      ]
    },
    {
      "cell_type": "code",
      "metadata": {
        "id": "v60S-YWGJlPf"
      },
      "source": [
        "BATCH_SIZE = 128\n",
        "\n",
        "GAMMA = 0.999\n",
        "EPS_START = 0.9\n",
        "EPS_END = 0.05\n",
        "EPS_DECAY = 200\n",
        "\n",
        "NUM_EPS = 1000\n",
        "TARGET_UPDATE = 10\n",
        "SCORED_EPS = min(100, round(0.2 * NUM_EPS))\n",
        "\n",
        "POP_SIZE = 5\n",
        "NUM_GENS = 3"
      ],
      "execution_count": null,
      "outputs": []
    },
    {
      "cell_type": "code",
      "metadata": {
        "colab": {
          "base_uri": "https://localhost:8080/",
          "height": 644,
          "referenced_widgets": [
            "91af4475588b4069846837566ed39529",
            "ba01d214737d43ec8ee1945a9f5d6f8e",
            "ba1e42d6f03049f99030b2f9be05cba4"
          ]
        },
        "id": "oAYsnwWYJlPf",
        "outputId": "4417648e-5b9e-4e00-f825-8d7c2d97d14e"
      },
      "source": [
        "t0 = time.time()\n",
        "progress_bar = IntProgress(min=0, max=NUM_GENS * POP_SIZE * NUM_EPS) # instantiate the bar\n",
        "display(progress_bar) # display the bar\n",
        "\n",
        "best_pnet = None\n",
        "\n",
        "for gen in range(NUM_GENS):\n",
        "    \n",
        "    print(f\"Generation: {gen + 1}/{NUM_GENS}\")\n",
        "    cur_best_pnet = None\n",
        "    best_score = 0\n",
        "    \n",
        "    for ind in range(POP_SIZE):\n",
        "        \n",
        "        print(f\"\\tIndividual: {ind + 1}/{POP_SIZE}\")\n",
        "\n",
        "        agent = Agent()\n",
        "        memory = ReplayMemory(10000)\n",
        "\n",
        "        for i_episode in range(NUM_EPS):\n",
        "            # Initialize the environment and state\n",
        "            agent.env.reset()\n",
        "            last_screen = get_screen(agent.env)\n",
        "            current_screen = get_screen(agent.env)\n",
        "            state = current_screen - last_screen\n",
        "            for t in count():\n",
        "                # Select and perform an action\n",
        "                action = select_action(state, agent, best_pnet)\n",
        "                _, reward, done, _ = agent.env.step(action.item())\n",
        "                reward = torch.tensor([reward], device=device)\n",
        "\n",
        "                # Observe new state\n",
        "                last_screen = current_screen\n",
        "                current_screen = get_screen(agent.env)\n",
        "                if not done:\n",
        "                    next_state = current_screen - last_screen\n",
        "                else:\n",
        "                    next_state = None\n",
        "\n",
        "                # Store the transition in memory\n",
        "                memory.push(state, action, next_state, reward)\n",
        "\n",
        "                # Move to the next state\n",
        "                state = next_state\n",
        "\n",
        "                # Perform one step of the optimization (on the target network)\n",
        "                optimize_model(agent, memory)\n",
        "                if done:\n",
        "                    agent.episode_durations.append(t + 1)\n",
        "                    break\n",
        "\n",
        "            # Update the target network, copying all weights and biases in DQN\n",
        "            if i_episode % TARGET_UPDATE == 0:\n",
        "                agent.target_net.load_state_dict(agent.policy_net.state_dict())\n",
        "              \n",
        "            progress_bar.value += 1\n",
        "                \n",
        "        # Calculate average score for agent over its lifetime\n",
        "        score = sum(agent.episode_durations[-SCORED_EPS:]) / len(agent.episode_durations[-SCORED_EPS:])\n",
        "        print(f\"\\t\\tScore: {score}\")\n",
        "        \n",
        "        # If the agent was better than the current best agent, then update the best agent\n",
        "        if score > best_score:\n",
        "            cur_best_pnet = agent.policy_net\n",
        "            best_score = score\n",
        "        \n",
        "        agent.env.render()\n",
        "        agent.env.close()\n",
        "    \n",
        "    # Set the best parent agent to be the best agent from the current generation\n",
        "    best_pnet = cur_best_pnet\n",
        "\n",
        "print('Complete')\n",
        "print('Time Elapsed', time.time() - t0)"
      ],
      "execution_count": null,
      "outputs": [
        {
          "output_type": "display_data",
          "data": {
            "application/vnd.jupyter.widget-view+json": {
              "model_id": "91af4475588b4069846837566ed39529",
              "version_minor": 0,
              "version_major": 2
            },
            "text/plain": [
              "IntProgress(value=0, max=15000)"
            ]
          },
          "metadata": {
            "tags": []
          }
        },
        {
          "output_type": "stream",
          "text": [
            "Generation: 1/3\n",
            "\tIndividual: 1/5\n",
            "\t\tScore: 41.4\n",
            "\tIndividual: 2/5\n",
            "\t\tScore: 48.16\n",
            "\tIndividual: 3/5\n",
            "\t\tScore: 25.34\n",
            "\tIndividual: 4/5\n",
            "\t\tScore: 43.09\n",
            "\tIndividual: 5/5\n",
            "\t\tScore: 69.45\n",
            "Generation: 2/3\n",
            "\tIndividual: 1/5\n",
            "\t\tScore: 45.11\n",
            "\tIndividual: 2/5\n",
            "\t\tScore: 42.92\n",
            "\tIndividual: 3/5\n",
            "\t\tScore: 39.65\n",
            "\tIndividual: 4/5\n",
            "\t\tScore: 40.19\n",
            "\tIndividual: 5/5\n",
            "\t\tScore: 43.84\n",
            "Generation: 3/3\n",
            "\tIndividual: 1/5\n",
            "\t\tScore: 39.54\n",
            "\tIndividual: 2/5\n",
            "\t\tScore: 46.22\n",
            "\tIndividual: 3/5\n",
            "\t\tScore: 34.65\n",
            "\tIndividual: 4/5\n",
            "\t\tScore: 45.71\n",
            "\tIndividual: 5/5\n",
            "\t\tScore: 44.85\n",
            "Complete\n",
            "Time Elapsed 8261.845029115677\n"
          ],
          "name": "stdout"
        }
      ]
    },
    {
      "cell_type": "code",
      "metadata": {
        "colab": {
          "base_uri": "https://localhost:8080/"
        },
        "id": "NvoJT2-mJlPf",
        "outputId": "d0c1bf98-7128-42e6-a181-cc247ecccde0"
      },
      "source": [
        "best_score"
      ],
      "execution_count": null,
      "outputs": [
        {
          "output_type": "execute_result",
          "data": {
            "text/plain": [
              "46.22"
            ]
          },
          "metadata": {
            "tags": []
          },
          "execution_count": 13
        }
      ]
    },
    {
      "cell_type": "markdown",
      "metadata": {
        "id": "rseu7R7PJlPf"
      },
      "source": [
        "## Run Baseline OLD PBT Approach"
      ]
    },
    {
      "cell_type": "code",
      "metadata": {
        "id": "E98kdqbcJlPf"
      },
      "source": [
        "BATCH_SIZE = 128\n",
        "\n",
        "GAMMA = 0.999\n",
        "EPS_START = 0.9\n",
        "EPS_END = 0.05\n",
        "EPS_DECAY = 200\n",
        "\n",
        "NUM_EPS = 10\n",
        "TARGET_UPDATE = 10\n",
        "SCORED_EPS = min(100, round(0.2 * NUM_EPS))\n",
        "\n",
        "POP_SIZE = 2\n",
        "NUM_GENS = 2"
      ],
      "execution_count": null,
      "outputs": []
    },
    {
      "cell_type": "code",
      "metadata": {
        "id": "_-dLH8CyJlPf"
      },
      "source": [
        "t0 = time.time()\n",
        "progress_bar = IntProgress(min=0, max=NUM_EPS) # instantiate the bar\n",
        "display(progress_bar) # display the bar\n",
        "\n",
        "best_score = 0\n",
        "    \n",
        "agents = [Agent() for _ in range(POP_SIZE * NUM_GENS)]\n",
        "memory = ReplayMemory(10000)\n",
        "    \n",
        "for i_episode in range(NUM_EPS):\n",
        "    for agent in agents:\n",
        "        # Initialize the environment and state\n",
        "        agent.env.reset()\n",
        "        last_screen = get_screen(agent.env)\n",
        "        agent.current_screen = get_screen(agent.env)\n",
        "        agent.state = agent.current_screen - last_screen\n",
        "    \n",
        "    running = [1] * POP_SIZE * NUM_GENS\n",
        "    t = 0\n",
        "\n",
        "    while sum(running) > 1:\n",
        "        for j, agent in enumerate(agents):\n",
        "            if running[j]:\n",
        "                # Select and perform an action\n",
        "                action = select_action(agent.state, agent)\n",
        "                _, reward, done, _ = agent.env.step(action.item())\n",
        "                reward = torch.tensor([reward], device=device)\n",
        "\n",
        "                # Observe new state\n",
        "                last_screen = agent.current_screen\n",
        "                agent.current_screen = get_screen(agent.env)\n",
        "                if not done:\n",
        "                    next_state = agent.current_screen - last_screen\n",
        "                else:\n",
        "                    next_state = None\n",
        "\n",
        "                # Store the transition in memory\n",
        "                memory.push(agent.state, action, next_state, reward)\n",
        "\n",
        "                # Move to the next state\n",
        "                agent.state = next_state\n",
        "\n",
        "                if done:\n",
        "                    agent.episode_durations.append(t + 1)\n",
        "                    running[j] = 0\n",
        "                    break\n",
        "        \n",
        "        for agent in agents:\n",
        "            # Perform one step of the optimization (on the target network)\n",
        "            optimize_model(agent, memory) \n",
        "        \n",
        "        t += 1\n",
        "        \n",
        "    # Update the target network, copying all weights and biases in DQN\n",
        "    if i_episode % TARGET_UPDATE == 0:\n",
        "        for agent in agents:\n",
        "            agent.target_net.load_state_dict(agent.policy_net.state_dict())\n",
        "    \n",
        "    progress_bar.value += 1\n",
        "\n",
        "# Calculate average score for agent over its lifetime\n",
        "for agent in agents:\n",
        "    score = sum(agent.episode_durations[-SCORED_EPS:]) / len(agent.episode_durations[-SCORED_EPS:])\n",
        "    best_score = max(best_score, score)     \n",
        "\n",
        "print('Complete')\n",
        "print('Time Elapsed', time.time() - t0)"
      ],
      "execution_count": null,
      "outputs": []
    },
    {
      "cell_type": "code",
      "metadata": {
        "id": "wi30sZNHJlPf"
      },
      "source": [
        "best_score"
      ],
      "execution_count": null,
      "outputs": []
    },
    {
      "cell_type": "code",
      "metadata": {
        "id": "A-pEaA07JlPf"
      },
      "source": [
        ""
      ],
      "execution_count": null,
      "outputs": []
    },
    {
      "cell_type": "code",
      "metadata": {
        "id": "HxnI__VGJlPf"
      },
      "source": [
        ""
      ],
      "execution_count": null,
      "outputs": []
    },
    {
      "cell_type": "code",
      "metadata": {
        "id": "P7DEZsCmJlPf"
      },
      "source": [
        ""
      ],
      "execution_count": null,
      "outputs": []
    },
    {
      "cell_type": "code",
      "metadata": {
        "id": "WUgD4jPmJlPf"
      },
      "source": [
        ""
      ],
      "execution_count": null,
      "outputs": []
    },
    {
      "cell_type": "code",
      "metadata": {
        "id": "LUs95--ZJlPf"
      },
      "source": [
        ""
      ],
      "execution_count": null,
      "outputs": []
    }
  ]
}